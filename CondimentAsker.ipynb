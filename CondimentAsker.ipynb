{
 "cells": [
  {
   "cell_type": "code",
   "execution_count": null,
   "id": "d479ba58-fca7-4a91-ba57-201f73a22d40",
   "metadata": {},
   "outputs": [],
   "source": [
    "nameInput = input(\"Enter your name: \")\n",
    "condimentInput = input(\"Enter your favorite condiment: \")\n",
    "condimentInput = condimentInput.lower()\n",
    "\n",
    "if condimentInput == \"mayo\" or condimentInput == \"mayonnaise\":\n",
    "    print(nameInput + \", get out of here\")\n",
    "elif condimentInput == \"ketchup\":\n",
    "    print(nameInput + \", you're pretty normal\")\n",
    "elif condimentInput == \"mustard\":\n",
    "    print(nameInput + \", okay I guess\")\n",
    "else:\n",
    "    print(nameInput + \", that's an interesting choice\")"
   ]
  }
 ],
 "metadata": {
  "kernelspec": {
   "display_name": "Python 3 (ipykernel)",
   "language": "python",
   "name": "python3"
  },
  "language_info": {
   "codemirror_mode": {
    "name": "ipython",
    "version": 3
   },
   "file_extension": ".py",
   "mimetype": "text/x-python",
   "name": "python",
   "nbconvert_exporter": "python",
   "pygments_lexer": "ipython3",
   "version": "3.12.4"
  }
 },
 "nbformat": 4,
 "nbformat_minor": 5
}
